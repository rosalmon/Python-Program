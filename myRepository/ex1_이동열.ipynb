{
 "cells": [
  {
   "cell_type": "markdown",
   "id": "c5b78047-0160-4217-9456-295df06b0a37",
   "metadata": {},
   "source": [
    "# 파이썬 프로그래밍  \n"
   ]
  },
  {
   "cell_type": "markdown",
   "id": "7cca0dda-6290-48bb-858b-de06460a12a9",
   "metadata": {},
   "source": [
    "#### 교과목 개요"
   ]
  },
  {
   "cell_type": "markdown",
   "id": "46e5dea7-e6f5-4737-9712-cb6fc73cc6f7",
   "metadata": {},
   "source": [
    "+ 머신러닝은 컴퓨터가 데이터를 학습함으로서 패턴을 인식하여 목표값을 예측하고 의사결정을 내리는 인공지능 분야의 한 영역입니다.\n",
    "+ 이 교과목은 학생들에게 머신러닝의 기본 개념, 알고리즘, 응용 및 적용에 대한 이해를 제공합니다.\n",
    "+ 학생들은 본 강의에서 주어진 데이터셋에서 문제를 해결하고 머신러닝 모델을 구축/학습하는 데 필요한 실용적인 기술과 지식을 습득할 수 있습니다. "
   ]
  },
  {
   "cell_type": "markdown",
   "id": "72f6acb0-9cfd-4b5f-900c-0b145cb4f86f",
   "metadata": {},
   "source": [
    "# 주의"
   ]
  },
  {
   "cell_type": "markdown",
   "id": "9b7eb634-e3da-4930-9f60-a0b07fb8b825",
   "metadata": {},
   "source": [
    "![](https://search.pstatic.net/common/?src=http%3A%2F%2Fshop1.phinf.naver.net%2F20220321_27%2F1647840514522rd0q2_JPEG%2F48976410144109228_2070424967.jpg&type=sc960_832)"
   ]
  },
  {
   "cell_type": "markdown",
   "id": "e696ca08-1e72-415a-a5ca-595648782c2d",
   "metadata": {},
   "source": [
    "\\- 수업 출석률이 총 수업시간의 3/4 에 미달한 학생은 정기시험, 재시험 또는 추가시험에 응시 할 수 없으며, 성적은 F(0 점) 처리한다."
   ]
  },
  {
   "cell_type": "markdown",
   "id": "e95a502c-6f5f-4c96-8470-19f8755678a8",
   "metadata": {},
   "source": [
    "### Python 기초"
   ]
  },
  {
   "cell_type": "markdown",
   "id": "29059de7-ec37-4722-8b05-971d861ab470",
   "metadata": {},
   "source": [
    "+ 텍스트 출력하기: print[text]"
   ]
  },
  {
   "cell_type": "markdown",
   "id": "fa26c435-49b3-4f57-a3e7-6f89e89a8c47",
   "metadata": {},
   "source": [
    "```python\n",
    "print(\"hello world\")  \n",
    "\n",
    "hello world\n",
    "```"
   ]
  }
 ],
 "metadata": {
  "kernelspec": {
   "display_name": "Python 3 (ipykernel)",
   "language": "python",
   "name": "python3"
  },
  "language_info": {
   "codemirror_mode": {
    "name": "ipython",
    "version": 3
   },
   "file_extension": ".py",
   "mimetype": "text/x-python",
   "name": "python",
   "nbconvert_exporter": "python",
   "pygments_lexer": "ipython3",
   "version": "3.8.19"
  }
 },
 "nbformat": 4,
 "nbformat_minor": 5
}
