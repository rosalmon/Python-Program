{
 "cells": [
  {
   "cell_type": "markdown",
   "id": "3dc8c2df-6dec-4861-a171-fe1291c5975a",
   "metadata": {},
   "source": [
    "# Markdown 언어 실습"
   ]
  },
  {
   "cell_type": "markdown",
   "id": "4a8de4e6-c47c-460c-aaeb-7189bc3972e4",
   "metadata": {},
   "source": [
    "---"
   ]
  },
  {
   "cell_type": "markdown",
   "id": "8d802701-cce3-4797-8c6b-dc16c76a6211",
   "metadata": {},
   "source": [
    "\n",
    "## Header\n",
    "1. Header 작성 (Markdown 언어)"
   ]
  },
  {
   "cell_type": "markdown",
   "id": "4574ec32-43e4-4706-a16b-b43750834795",
   "metadata": {},
   "source": [
    "<a id = \"header\"></a>"
   ]
  },
  {
   "cell_type": "markdown",
   "id": "91166d42-f8e0-41d2-849d-656bad02b75b",
   "metadata": {},
   "source": [
    "# Header\n",
    "## Header\n",
    "### Header\n",
    "#### Header\n",
    "##### Header\n",
    "###### Header\n"
   ]
  },
  {
   "cell_type": "markdown",
   "id": "53114f35-b5b3-43ef-9638-dbec19454ee7",
   "metadata": {},
   "source": [
    "# Header\n",
    "## Header\n",
    "### Header\n",
    "#### Header\n",
    "##### Header\n",
    "###### Header\n"
   ]
  },
  {
   "cell_type": "markdown",
   "id": "edfc5647-e08e-46b5-b05d-9f717cfe40a9",
   "metadata": {},
   "source": [
    "2. Header 작성 (HTML 언어)"
   ]
  },
  {
   "cell_type": "markdown",
   "id": "723385de-519e-4f9d-9437-b50013339ce4",
   "metadata": {},
   "source": [
    "<h1>Header</h1>\n",
    "<h2>Header</h2>\n",
    "<h3>Header</h3>\n",
    "<h4>Header</h4>\n",
    "<h5>Header</h5>\n",
    "<h6>Header</h6>"
   ]
  },
  {
   "cell_type": "markdown",
   "id": "5b26498f-81f5-46eb-803a-1af1b68e207c",
   "metadata": {},
   "source": [
    "<h1>Header</h1>\n",
    "<h2>Header</h2>\n",
    "<h3>Header</h3>\n",
    "<h4>Header</h4>\n",
    "<h5>Header</h5>\n",
    "<h6>Header</h6>"
   ]
  },
  {
   "cell_type": "markdown",
   "id": "d363de09-ab79-4111-96a5-e64a6d8ac4dd",
   "metadata": {},
   "source": [
    "---"
   ]
  },
  {
   "cell_type": "markdown",
   "id": "b07d0fdf-5a41-4768-a560-757cb1151d34",
   "metadata": {},
   "source": [
    "<a id = \"bold_text\"></a>"
   ]
  },
  {
   "cell_type": "markdown",
   "id": "b43e1974-0f44-49ff-b5cd-b335de8bf697",
   "metadata": {},
   "source": [
    "## Bold Text\n",
    "1. Bold Text 작성 (Markdown 언어)"
   ]
  },
  {
   "cell_type": "markdown",
   "id": "d0ce6a8e-2418-4ca9-864e-6245d0e7018a",
   "metadata": {},
   "source": [
    "이 글은 **굵게**   작성된 내용입니다.  \n",
    "__이 글은 굵게 작성된 내용입니다.__"
   ]
  },
  {
   "cell_type": "markdown",
   "id": "ac95e01f-4676-460e-8abc-e80a716cf91b",
   "metadata": {},
   "source": [
    "이 글은 **굵게**   작성된 내용입니다.  \n",
    "__이 글은 굵게 작성된 내용입니다.__"
   ]
  },
  {
   "cell_type": "markdown",
   "id": "c61b0fba-358b-48e3-9cb3-1fbb0f0e5422",
   "metadata": {},
   "source": [
    "2. Bold Text 작성 (HTML 언어)  \n"
   ]
  },
  {
   "cell_type": "markdown",
   "id": "07ab4176-7808-4a9a-96b9-0678939e5032",
   "metadata": {},
   "source": [
    "<strong>이 글은 굵게 작성된 내용입니다</strong>  \n",
    "이 글은 <strong>굵게</strong> 작성된 내용입니다"
   ]
  },
  {
   "cell_type": "markdown",
   "id": "85878aae-6a79-4ad1-a0dd-d1f86bec7c8d",
   "metadata": {},
   "source": [
    "<strong>이 글은 굵게 작성된 내용입니다</strong>  \n",
    "이 글은 <strong>굵게</strong> 작성된 내용입니다"
   ]
  },
  {
   "cell_type": "markdown",
   "id": "a0dd78e3-ba2c-4832-9aaa-3c99ac39382f",
   "metadata": {},
   "source": [
    "---"
   ]
  },
  {
   "cell_type": "markdown",
   "id": "fcbc5718-6631-4e1f-b10a-71f81d63c7d4",
   "metadata": {},
   "source": [
    "# Italic Text \n"
   ]
  },
  {
   "cell_type": "markdown",
   "id": "fcd9a612-7da5-4d11-9652-da26d85c4667",
   "metadata": {},
   "source": [
    "1. Italic Text 작성 (Markdown 언어)"
   ]
  },
  {
   "cell_type": "markdown",
   "id": "2dc6b5d4-2e81-44cc-94c3-d93b87f3e263",
   "metadata": {},
   "source": [
    "*이 글은 기울기가 적용된 내용입니다.*  \n",
    "_이 글은 기울기가 적용된 내용입니다._"
   ]
  },
  {
   "cell_type": "markdown",
   "id": "9c03b165-ec76-4429-8a68-2af0447a510f",
   "metadata": {},
   "source": [
    "*이 글은 기울기가 적용된 내용입니다.*  \n",
    "_이 글은 기울기가 적용된 내용입니다._"
   ]
  },
  {
   "cell_type": "markdown",
   "id": "c6904718-7fa4-43e9-ae0e-50ff7c71879f",
   "metadata": {},
   "source": [
    "2. Italic Text 작성 (HTML 언어)\n",
    "."
   ]
  },
  {
   "cell_type": "markdown",
   "id": "1c849a3c-5c81-4884-a025-5c45707156c6",
   "metadata": {},
   "source": [
    "이 글은 <em>기울기<em>가 적용된 내용입니다.  \n",
    "<em>이 글은 기울기가 적용된 내용입니다.<em>  "
   ]
  },
  {
   "cell_type": "markdown",
   "id": "815f5f96-5d69-4172-a99d-3e2348c56cf4",
   "metadata": {},
   "source": [
    "이 글은 <em>기울기<em>가 적용된 내용입니다.  \n",
    "<em>이 글은 기울기가 적용된 내용입니다.<em>  "
   ]
  },
  {
   "cell_type": "markdown",
   "id": "ef9481cf-f88d-47e2-af42-ac4eaa80fd03",
   "metadata": {},
   "source": [
    "---"
   ]
  },
  {
   "cell_type": "markdown",
   "id": "92c40ea2-e6c0-4bd4-8cfc-e2962eebea6e",
   "metadata": {},
   "source": [
    "# Bold & Italic Text"
   ]
  },
  {
   "cell_type": "markdown",
   "id": "bda73957-bb56-4b1a-90db-a30b1c00cf15",
   "metadata": {},
   "source": [
    "1. Bold & Italic Text 작성 (Markdown 언어)"
   ]
  },
  {
   "cell_type": "markdown",
   "id": "e4d8f43e-4ba1-4ea5-83ef-94f48cc3196e",
   "metadata": {},
   "source": [
    "이 글은 ***굵게 그리고 기울기***가 동시에 적용된 내용입니다.  \n",
    "___이 글은 굵게 그리고 기울기가 동시에 적용된 내용입니다.___"
   ]
  },
  {
   "cell_type": "markdown",
   "id": "35a1c911-868f-4a73-a4b5-8290e42c4e72",
   "metadata": {},
   "source": [
    "이 글은 ***굵게 그리고 기울기***가 동시에 적용된 내용입니다.  \n",
    "___이 글은 굵게 그리고 기울기가 동시에 적용된 내용입니다.___"
   ]
  },
  {
   "cell_type": "markdown",
   "id": "d0e82962-8fe6-4787-bcbd-c4622bcf3b6e",
   "metadata": {},
   "source": [
    "2. Bold & Italic Text 작성 (HTML 언어)"
   ]
  },
  {
   "cell_type": "markdown",
   "id": "477244dd-64f3-43cf-a6b7-26a4f0147507",
   "metadata": {},
   "source": [
    "이 글은 <b><i>굵게 그리고 기울기</i></b>가 동시에 적용된 내용입니다.<br> \n",
    "<b><i>이 글은 굵게 그리고 기울기가 동시에 적용된 내용입니다.</i><b>"
   ]
  },
  {
   "cell_type": "markdown",
   "id": "71e27fe6-3c9e-4021-b4d8-5d567a5fdf8a",
   "metadata": {},
   "source": [
    "이 글은 <b><i>굵게 그리고 기울기</i></b>가 동시에 적용된 내용입니다.<br> \n",
    "<b><i>이 글은 굵게 그리고 기울기가 동시에 적용된 내용입니다.</i><b>"
   ]
  },
  {
   "cell_type": "markdown",
   "id": "19a9b037-d07b-4203-96b0-b615a7070c09",
   "metadata": {},
   "source": [
    "---"
   ]
  },
  {
   "cell_type": "markdown",
   "id": "a8bbfd90-2248-45d1-baef-caade50ebe07",
   "metadata": {},
   "source": [
    "# STRIKETHROUGH Text\n",
    "1. STRIKETHROUGH Text 작성 (Markdown 언어)"
   ]
  },
  {
   "cell_type": "markdown",
   "id": "5171d2ac-a17a-46e2-8a1a-dc77d728e0a5",
   "metadata": {},
   "source": [
    "~~이 글은 취소된 내용입니다.~~"
   ]
  },
  {
   "cell_type": "markdown",
   "id": "a7e622e2-d51b-4c74-bcdf-49ee4d31f720",
   "metadata": {},
   "source": [
    "~~이 글은 취소된 내용입니다.~~"
   ]
  },
  {
   "cell_type": "markdown",
   "id": "86d18e86-95e2-4c71-b1b4-dfb610d83c3c",
   "metadata": {},
   "source": [
    "2. STRIKETHROUGH Text 작성 (HTML 언어)"
   ]
  },
  {
   "cell_type": "markdown",
   "id": "08280338-3aed-4bcb-8ceb-6575917754f9",
   "metadata": {},
   "source": [
    "<del>이 글은 취소된 내용입니다.</del>"
   ]
  },
  {
   "cell_type": "markdown",
   "id": "8a7895ef-0b07-483e-a3f3-4a9f0f1eeebb",
   "metadata": {},
   "source": [
    "<del>이 글은 취소된 내용입니다.</del>"
   ]
  },
  {
   "cell_type": "markdown",
   "id": "c844b4fe-048f-4b0b-87a9-9be38bb89394",
   "metadata": {},
   "source": [
    "---"
   ]
  },
  {
   "cell_type": "markdown",
   "id": "65db4879-fb3c-48a3-abdf-e5c56ad27007",
   "metadata": {},
   "source": [
    "# BACKSLASH ESCAPE\n",
    "- BACKSLASH ESCAPE (Markdown 언어)\n",
    "  + 마크다운언어를 통해 \"#\"문자를 작성하고자 할 때는, 역슬래쉬(\\#)문자를 활용\n",
    "\\# Header"
   ]
  },
  {
   "cell_type": "markdown",
   "id": "006dff11-dd20-4db9-86ab-13b0e8b60d3f",
   "metadata": {},
   "source": [
    "\\# Not Header"
   ]
  },
  {
   "cell_type": "markdown",
   "id": "116dde7f-03ca-4626-8f2f-038f5caa1371",
   "metadata": {},
   "source": [
    "#Not Header"
   ]
  },
  {
   "cell_type": "markdown",
   "id": "8d644952-6486-4569-a21f-b7b3c101a6dc",
   "metadata": {},
   "source": [
    "\\*\\* 이 글은 굵게 작성되지 않은 내용입니다. \\*\\*"
   ]
  },
  {
   "cell_type": "markdown",
   "id": "75502b02-8e62-47bb-899c-3121570cefb7",
   "metadata": {},
   "source": [
    "\\*\\* 이 글은 굵게 작성되지 않은 내용입니다. \\*\\*"
   ]
  },
  {
   "cell_type": "markdown",
   "id": "6af8ccbc-849f-4913-805c-96fd0f35968c",
   "metadata": {},
   "source": [
    "---"
   ]
  },
  {
   "cell_type": "markdown",
   "id": "2b797837-3a55-48d5-958e-2466cb32d49b",
   "metadata": {},
   "source": [
    "# PARAGRAPHS\n",
    "1. PARAGRAPHS 작성 (Markdown 언어)\n"
   ]
  },
  {
   "cell_type": "markdown",
   "id": "acaf9206-12e5-42a0-a0d6-9b891ce13599",
   "metadata": {},
   "source": [
    "이 글은 첫 번째 문장입니다.<br>\n",
    "이 글은 두 번째 문장입니다."
   ]
  },
  {
   "cell_type": "markdown",
   "id": "e24b2937-1820-4d95-a4f9-8b9ee631e579",
   "metadata": {},
   "source": [
    "이 글은 첫 번째 문장입니다.  \n",
    "이 글은 두 번째 문장입니다."
   ]
  },
  {
   "cell_type": "markdown",
   "id": "3d39b817-890f-459e-a6d9-dbb25c4e059f",
   "metadata": {},
   "source": [
    "2. PARAGRAPHS 작성 (HTML 언어)"
   ]
  },
  {
   "cell_type": "markdown",
   "id": "d29803ee-6526-4cf6-9885-3949185d365e",
   "metadata": {},
   "source": [
    "<P>이 글은 첫 번째 문장입니다.</p>\n",
    "<p>이 글은 두 번째 문장입니다.</p>"
   ]
  },
  {
   "cell_type": "markdown",
   "id": "91a5263f-7e71-493b-93ff-b2226caab87f",
   "metadata": {},
   "source": [
    "<P>이 글은 첫 번째 문장입니다.</p>\n",
    "<p>이 글은 두 번째 문장입니다.</p>"
   ]
  },
  {
   "cell_type": "markdown",
   "id": "9790acfb-e216-4074-b156-5fcbab75fcfd",
   "metadata": {},
   "source": [
    "---"
   ]
  },
  {
   "cell_type": "markdown",
   "id": "9f8d62c4-60fb-46ed-8f1b-0be40c9114ea",
   "metadata": {},
   "source": [
    "# BLOCKQUOTES\n",
    "1. BLOCKQUOTES 작성 (Markdown 언어)"
   ]
  },
  {
   "cell_type": "markdown",
   "id": "4adda173-a5fc-4cab-a46e-3b3c60f2d517",
   "metadata": {},
   "source": [
    ">이 글은 인용문입니다."
   ]
  },
  {
   "cell_type": "markdown",
   "id": "f1b480e0-9028-441a-a474-b50419019ecd",
   "metadata": {},
   "source": [
    ">이 글은 인용문입니다."
   ]
  },
  {
   "cell_type": "markdown",
   "id": "1e0e9262-2ce0-47a3-b8ab-9c88a8839ab8",
   "metadata": {},
   "source": [
    "2. BLOCKQUOTES 작성 (HTML 언어)"
   ]
  },
  {
   "cell_type": "markdown",
   "id": "0bd84daa-7f69-4cab-b11b-627f8c2386ed",
   "metadata": {},
   "source": [
    "<blockquote>이 글은 인용문입니다</blockquote>"
   ]
  },
  {
   "cell_type": "markdown",
   "id": "21322d81-c5b2-45c0-bb03-1b71480d7b63",
   "metadata": {},
   "source": [
    "<blockquote>이 글은 인용문입니다</blockquote>"
   ]
  },
  {
   "cell_type": "markdown",
   "id": "7d45399f-9c32-40e8-8a6a-b77f4ce8144a",
   "metadata": {},
   "source": [
    "---\n"
   ]
  },
  {
   "cell_type": "markdown",
   "id": "ae30d1e0-75fa-48cf-8f14-3eb6b2a7393f",
   "metadata": {},
   "source": [
    "\n",
    "# NESTED BLOCK QUOTING\n",
    "1. NESTED BLOCK QUOTING 작성 (Markdown 언어)"
   ]
  },
  {
   "cell_type": "markdown",
   "id": "f177a4c1-edee-481e-aa94-b39df525ddea",
   "metadata": {},
   "source": [
    "> 1수준 인용문\n",
    ">> 2수준 인용문\n",
    ">>> 3수준 인용문"
   ]
  },
  {
   "cell_type": "markdown",
   "id": "b7429286-7d85-4210-95a1-6896b2e14930",
   "metadata": {},
   "source": [
    "> 1수준 인용문\n",
    ">> 2수준 인용문\n",
    ">>> 3수준 인용문"
   ]
  },
  {
   "cell_type": "markdown",
   "id": "b5ec1c3e-27fe-4c61-9824-2f984df5e7fc",
   "metadata": {},
   "source": [
    "2. NESTED BLOCK QUOTING 작성 (Markdown 언어)"
   ]
  },
  {
   "cell_type": "markdown",
   "id": "25c30a0c-6048-4d08-8c64-76c4dbcc9756",
   "metadata": {},
   "source": [
    "<blockquote>\n",
    "    <p>1수준 인용문</p>\n",
    "    <blockquote>\n",
    "        <p>2수준 인용문</p>\n",
    "        <blockquote>\n",
    "            <p>3수준 인용문</p>\n",
    "        </blockquote>\n",
    "    </blockquote>\n",
    "</blockquote>"
   ]
  },
  {
   "cell_type": "markdown",
   "id": "c99e2b33-e5d1-4cbb-a5e0-fa75903656b1",
   "metadata": {},
   "source": [
    "<blockquote>\n",
    "    <p>1수준 인용문</p>\n",
    "<blockquote>\n",
    "<p>2수준 인용문</p>\n",
    "<blockquote>\n",
    "<p>3수준 인용문</p>\n",
    "</blockquote>\n",
    "</blockquote>\n",
    "</blockquote>"
   ]
  },
  {
   "cell_type": "markdown",
   "id": "04298459-ceec-4e95-8132-65ed445299c9",
   "metadata": {},
   "source": [
    "---"
   ]
  },
  {
   "cell_type": "markdown",
   "id": "56734ac5-5067-4a3a-834a-c6a0decc394c",
   "metadata": {},
   "source": [
    "# HORIZONTAL LINE (수평선)"
   ]
  },
  {
   "cell_type": "markdown",
   "id": "fcfadf61-cced-4ffe-b07f-6d5a6eb609a3",
   "metadata": {},
   "source": [
    "1. HORIZONTAL LINE 작성 (Markdown 언어)"
   ]
  },
  {
   "cell_type": "markdown",
   "id": "330984e1-9d2d-4daa-b8f4-887d402e83a8",
   "metadata": {},
   "source": [
    "---\n",
    "___\n",
    "***"
   ]
  },
  {
   "cell_type": "markdown",
   "id": "63fcbf8d-bba5-4253-be3f-a6fe7ba0cd52",
   "metadata": {},
   "source": [
    "---\n",
    "___\n",
    "***"
   ]
  },
  {
   "cell_type": "markdown",
   "id": "00bf8121-8b04-4340-ae80-3d6f50554cb3",
   "metadata": {},
   "source": [
    "2. HORIZONTAL LINE (HTML 언어)\n"
   ]
  },
  {
   "cell_type": "markdown",
   "id": "995780df-95c3-4bd1-834a-e19720767476",
   "metadata": {},
   "source": [
    "<hr>"
   ]
  },
  {
   "cell_type": "markdown",
   "id": "f2e5f8ae-15bc-40fc-955c-2630ae2cfe6f",
   "metadata": {},
   "source": [
    "<HR>"
   ]
  },
  {
   "cell_type": "markdown",
   "id": "58ffac16-bb76-4529-ad03-a50b9023f1aa",
   "metadata": {},
   "source": [
    "# ORDERED LIST"
   ]
  },
  {
   "cell_type": "markdown",
   "id": "74466473-402e-45e3-85e0-bdf19341cbd0",
   "metadata": {},
   "source": [
    "1. 아이템 1\n",
    "2. 아이템 2\n",
    "3. 아이템 3\n",
    "4. 아이템 4\n",
    "5. 아이템 5"
   ]
  },
  {
   "cell_type": "markdown",
   "id": "f343ab1f-fff0-46e8-b9b6-004d4256b82e",
   "metadata": {},
   "source": [
    "1. 아이템 1\n",
    "2. 아이템 2\n",
    "3. 아이템 3\n",
    "4. 아이템 4\n",
    "5. 아이템 5"
   ]
  },
  {
   "cell_type": "markdown",
   "id": "b9e73db4-9f9b-4e93-8018-4ecffa5e91a5",
   "metadata": {},
   "source": [
    "2. ORDERED LIST 작성 (HTML 언어)"
   ]
  },
  {
   "cell_type": "markdown",
   "id": "5f9aaa05-6855-4409-909f-8f08db454836",
   "metadata": {},
   "source": [
    "<ol>\n",
    "    <li>아이템1</li>\n",
    "    <li>아이템2</li>\n",
    "    <li>아이템3</li>\n",
    "    <li>아이템4</li>\n",
    "    <li>아이템5</li>\n",
    "</ol>"
   ]
  },
  {
   "cell_type": "markdown",
   "id": "96b1063e-1d20-41fc-81e6-52b5f3944564",
   "metadata": {},
   "source": [
    "<ol>\n",
    "    <li>아이템1</li>\n",
    "    <li>아이템2</li>\n",
    "    <li>아이템3</li>\n",
    "    <li>아이템4</li>\n",
    "    <li>아이템5</li>\n",
    "</ol>"
   ]
  },
  {
   "cell_type": "markdown",
   "id": "5d8a14c1-ed37-4e0c-a7f9-9e8489bb555c",
   "metadata": {},
   "source": [
    "# NESTED ORDERED LIST\n"
   ]
  },
  {
   "cell_type": "markdown",
   "id": "e495839f-d188-4846-bd35-c9211fbee505",
   "metadata": {},
   "source": [
    "1. NESTED ORDERED LIST 작성 (Markdown 언어)"
   ]
  },
  {
   "cell_type": "markdown",
   "id": "1c72d6d4-187e-4255-a09d-a0569c99fbd4",
   "metadata": {},
   "source": [
    "1. 아이템 1  \n",
    "    1. 서브아이템 1  \n",
    "    2. 서브아이템 2  \n",
    "    3. 서브아이템 3  \n",
    "2. 아이템 2\n",
    "3. 아이템 3"
   ]
  },
  {
   "cell_type": "markdown",
   "id": "43526417-4e49-43a3-be30-fc9651b9a42c",
   "metadata": {},
   "source": [
    "1. 아이템 1  \n",
    " A. 서브아이템 1  \n",
    " B. 서브아이템 2  \n",
    " C. 서브아이템 3  \n",
    "2. 아이템 2\n",
    "3. 아이템 3"
   ]
  },
  {
   "cell_type": "markdown",
   "id": "f48c244c-34a5-41ee-af1b-34196d7b9aff",
   "metadata": {},
   "source": [
    "2. NESTED ORDERED LIST 작성 (HTML 언어)"
   ]
  },
  {
   "cell_type": "markdown",
   "id": "6b5e6c87-39c6-4c96-b02b-87de5d70fb98",
   "metadata": {},
   "source": [
    "<ol>\n",
    "    <li>아이템 1</li>\n",
    "    </ol>\n",
    "    <li>서브 아이템 1</li>\n",
    "    <li>서브 아이템 2</li>\n",
    "    <li>서브 아이템 3</li>\n",
    "    </ol>\n",
    "    <li>아이템2</li>\n",
    "    <li>아이템3</li>\n",
    "</ol>"
   ]
  },
  {
   "cell_type": "markdown",
   "id": "8e76bdc6-6883-41c4-be84-418ec92877f8",
   "metadata": {},
   "source": [
    "<ol>\n",
    "    <li>아이템 1</li>\n",
    "    </ol>\n",
    "    <li>서브 아이템 1</li>\n",
    "    <li>서브 아이템 2</li>\n",
    "    <li>서브 아이템 3</li>\n",
    "    </ol>\n",
    "    <li>아이템2</li>\n",
    "    <li>아이템3</li>\n",
    "</ol>"
   ]
  },
  {
   "cell_type": "markdown",
   "id": "d6b45383-adef-4b58-9705-0b75570562a1",
   "metadata": {},
   "source": [
    "---"
   ]
  },
  {
   "cell_type": "markdown",
   "id": "c45a6e2a-1cdd-435c-bbf0-8cb5421a62cf",
   "metadata": {},
   "source": [
    "# UNORDERED LIST"
   ]
  },
  {
   "cell_type": "markdown",
   "id": "58b7f5c7-6db8-4488-aab4-64feda922961",
   "metadata": {},
   "source": [
    "1. UNORDERED LIST 작성 (Markdown 언어)\n"
   ]
  },
  {
   "cell_type": "markdown",
   "id": "919160e8-ab93-426f-91cb-70fcb58c715a",
   "metadata": {},
   "source": [
    "- 아이템 1\n",
    "- 아이템 2\n",
    "  + 서브아이템 2-1\n",
    "  + 서브아이템 2-2"
   ]
  },
  {
   "cell_type": "markdown",
   "id": "0a3fd77d-6e52-4df3-9672-b8e3be132cac",
   "metadata": {},
   "source": [
    "- 아이템 1\n",
    "- 아이템 2\n",
    "  + 서브아이템 2-1\n",
    "  + 서브아이템 2-2"
   ]
  },
  {
   "cell_type": "markdown",
   "id": "8d45a588-c370-49f5-a6f3-28739bbf93cf",
   "metadata": {},
   "source": [
    "2. UNORDERED LIST 작성 (HTML 언어)"
   ]
  },
  {
   "cell_type": "markdown",
   "id": "7ec37651-27e5-4200-a302-1e71b2c4f563",
   "metadata": {},
   "source": [
    "<ul>\n",
    "    <li>아이템1</li>\n",
    "    <li>아이템2</li>\n",
    "<ul>\n",
    "        <li>서브 아이템 2-1</li>\n",
    "        <li>서브 아이템 2-2</li>\n",
    "    </ul>\n",
    "</ul>"
   ]
  },
  {
   "cell_type": "markdown",
   "id": "9517dc94-4718-438a-8724-6ac88c93177c",
   "metadata": {},
   "source": [
    "<ul>\n",
    "    <li>아이템1</li>\n",
    "    <li>아이템2</li>\n",
    "<ul>\n",
    "    <li>서브 아이템 2-1</li>\n",
    "    <li>서브 아이템 2-2</li>\n",
    "    </ul>\n",
    "    </ul>"
   ]
  },
  {
   "cell_type": "markdown",
   "id": "7f9c73f4-5221-45b2-ae82-1b217772ba13",
   "metadata": {},
   "source": [
    "---"
   ]
  },
  {
   "cell_type": "markdown",
   "id": "0082daa7-b6a8-4e1d-8662-5ac7d33c9673",
   "metadata": {},
   "source": [
    "# Graphics\n",
    "1. 사진 첨부하기(Markdown 언어)"
   ]
  },
  {
   "cell_type": "markdown",
   "id": "29c217f6-93d2-486e-b34f-6c5d7f1c75e2",
   "metadata": {},
   "source": [
    "+ \\![](이미지 주소)"
   ]
  },
  {
   "cell_type": "markdown",
   "id": "94940894-00da-48c9-b507-534a292f4455",
   "metadata": {},
   "source": [
    "![](https://th.bing.com/th/id/OIP.EDJ9xoErBbZqK2tExVoJfAAAAA?rs=1&pid=ImgDetMain)"
   ]
  },
  {
   "cell_type": "markdown",
   "id": "38868ea3-b2ee-4f21-be39-3c48aad1026e",
   "metadata": {},
   "source": [
    "![](https://th.bing.com/th/id/OIP.EDJ9xoErBbZqK2tExVoJfAAAAA?rs=1&pid=ImgDetMain)"
   ]
  },
  {
   "cell_type": "markdown",
   "id": "1b37e4fd-b265-490d-9f13-45221a2c2cfa",
   "metadata": {},
   "source": [
    "2. 사진 첨부하기 (HTML 언어)"
   ]
  },
  {
   "cell_type": "markdown",
   "id": "034004e8-2a21-406e-8ffd-de5f67655cd2",
   "metadata": {},
   "source": [
    "<img src = \"https://th.bing.com/th/id/OIP.EDJ9xoErBbZqK2tExVoJfAAAAA?rs=1&pid=ImgDetMain\">"
   ]
  },
  {
   "cell_type": "markdown",
   "id": "02310f9d-216a-43ea-b20a-4397dc0ebaf6",
   "metadata": {},
   "source": [
    "<img src = \"https://th.bing.com/th/id/OIP.EDJ9xoErBbZqK2tExVoJfAAAAA?rs=1&pid=ImgDetMain\">"
   ]
  },
  {
   "cell_type": "markdown",
   "id": "5488bbfc-b2fe-4a3d-8509-80e6e24d2e4d",
   "metadata": {},
   "source": [
    "---"
   ]
  },
  {
   "cell_type": "markdown",
   "id": "3c5cbaa6-88f9-4147-8e87-c819b2eade6a",
   "metadata": {},
   "source": [
    "# Hyperlink\n",
    "1. Hyperlink 작성하기 (Markdown 언어)"
   ]
  },
  {
   "cell_type": "markdown",
   "id": "83e0c939-8fe0-40ca-aa42-73980b4b5149",
   "metadata": {},
   "source": [
    "https://www.naver.com/"
   ]
  },
  {
   "cell_type": "markdown",
   "id": "7add415a-9c1a-480c-af40-5de4ba626223",
   "metadata": {},
   "source": [
    "https://www.naver.com/"
   ]
  },
  {
   "cell_type": "markdown",
   "id": "fa162ad1-57ab-46eb-8c3c-37f89425610e",
   "metadata": {},
   "source": [
    "2. Hyperlink 작성하기 (HTML 언어)  "
   ]
  },
  {
   "cell_type": "markdown",
   "id": "fdaae818-1c00-4b7e-8845-d77cca8dced5",
   "metadata": {},
   "source": [
    "<a href = \"https://www.naver.com/\">https://www.naver.com/</a>"
   ]
  },
  {
   "cell_type": "markdown",
   "id": "13b9f718-e999-411c-9300-646b0b090bb4",
   "metadata": {},
   "source": [
    "<a href = \"https://www.naver.com/\">https://www.naver.com/</a>"
   ]
  },
  {
   "cell_type": "markdown",
   "id": "bf570e44-b04f-4974-be1d-91dfbf68737e",
   "metadata": {},
   "source": [
    "---"
   ]
  },
  {
   "cell_type": "markdown",
   "id": "edc769ad-59e6-4e0c-ad1d-a2e85f9e1d4c",
   "metadata": {},
   "source": [
    "# Hyperlink by name\n",
    "1. Hyperlink by name 작성하기 (Markdown 언어)"
   ]
  },
  {
   "cell_type": "markdown",
   "id": "e7e77872-c1a3-4c12-94cc-c522c83b8486",
   "metadata": {},
   "source": [
    "[click me](https://www.naver.com/)"
   ]
  },
  {
   "cell_type": "markdown",
   "id": "daa47318-d587-4bfa-9b77-282eab419860",
   "metadata": {},
   "source": [
    "[click me](https://www.naver.com/)"
   ]
  },
  {
   "cell_type": "markdown",
   "id": "2418e598-f5dc-4dc8-b8ff-bc0ba0dfb756",
   "metadata": {},
   "source": [
    "2. Hyperlink by name  작성하기 (HTML 언어)"
   ]
  },
  {
   "cell_type": "markdown",
   "id": "524fc8d6-13a8-4b27-a725-8c585da4103a",
   "metadata": {},
   "source": [
    "<a href = \"https://www.naver.com/\">click me</a>"
   ]
  },
  {
   "cell_type": "markdown",
   "id": "c4334e2e-fe04-489f-840e-2ccf2eb652dc",
   "metadata": {},
   "source": [
    "<a href = \"https://www.naver.com/\">click me</a>"
   ]
  },
  {
   "cell_type": "markdown",
   "id": "a459dc17-6ea1-44d4-bb32-93e679a191b3",
   "metadata": {},
   "source": [
    "---"
   ]
  },
  {
   "cell_type": "markdown",
   "id": "d6e8f6fb-1152-4c01-ae13-946fd54716c0",
   "metadata": {},
   "source": [
    "# Anchor Links\n",
    "1. Anchor Links 작성하기"
   ]
  },
  {
   "cell_type": "markdown",
   "id": "efee927f-5720-46f5-ab22-9d5885ff50fb",
   "metadata": {},
   "source": [
    "- [Header](#header)  \n",
    "- [Bold Text](#bold_text)  "
   ]
  },
  {
   "cell_type": "markdown",
   "id": "ecf9027c-6c6b-495d-aaa8-bdf71fc5e434",
   "metadata": {},
   "source": [
    "- Header\n",
    "- Bold Text"
   ]
  },
  {
   "cell_type": "markdown",
   "id": "dc8f230d-b95b-4678-9ede-ac4f1adb7f30",
   "metadata": {},
   "source": [
    "---"
   ]
  },
  {
   "cell_type": "markdown",
   "id": "81b40f5b-c4e6-457a-af8e-dc3c32e19243",
   "metadata": {},
   "source": [
    "# Task Lists\n",
    "1. Task Lists 작성"
   ]
  },
  {
   "cell_type": "markdown",
   "id": "9402937d-97d4-4a9a-9899-965d4eeee3a3",
   "metadata": {},
   "source": [
    "- [X] 오늘 할 일\n",
    "- [ ] 내일 할 일"
   ]
  },
  {
   "cell_type": "markdown",
   "id": "5c479fda-e6a4-482c-9527-850518c02f14",
   "metadata": {},
   "source": [
    "- [X] 오늘 할 일\n",
    "- [ ] 내일 할 일"
   ]
  },
  {
   "cell_type": "markdown",
   "id": "d01a9a2f-f2bf-400b-8e97-938530a3b0eb",
   "metadata": {},
   "source": [
    "---"
   ]
  },
  {
   "cell_type": "markdown",
   "id": "62f30c25-27cb-4049-976e-3ef23ee182c0",
   "metadata": {},
   "source": [
    "# Inline HTML\n",
    "1. Inline HTML 작성"
   ]
  },
  {
   "cell_type": "markdown",
   "id": "cf0461df-c24a-4bf1-9aed-177113689030",
   "metadata": {},
   "source": [
    "<span style = \"color:red\"> 이 글은 스타일이 적용된 문장입니다. </span>"
   ]
  },
  {
   "cell_type": "markdown",
   "id": "c3fb13ba-9af9-4efa-84e3-0361aa5f2b10",
   "metadata": {},
   "source": [
    "<span style = \"color:red\"> 이 글은 스타일이 적용된 문장입니다. </span>"
   ]
  },
  {
   "cell_type": "markdown",
   "id": "befca8c7-930f-408d-ba20-61e3102f56d6",
   "metadata": {},
   "source": [
    "---"
   ]
  },
  {
   "cell_type": "markdown",
   "id": "d845c383-ff30-4fe2-ad88-0418cc56c680",
   "metadata": {},
   "source": [
    "# Code section\n",
    "1. Code section 작성"
   ]
  },
  {
   "cell_type": "markdown",
   "id": "13f2fef6-2a46-4aaa-b9c5-76849d2954ff",
   "metadata": {},
   "source": [
    "```python\n",
    "a = 10\n",
    "print (a)\n",
    "```"
   ]
  },
  {
   "cell_type": "markdown",
   "id": "e1ce1012-11f7-4533-94d3-4a2acc1863e4",
   "metadata": {},
   "source": [
    "```python\n",
    "a = 10\n",
    "print (a)\n",
    "```"
   ]
  },
  {
   "cell_type": "markdown",
   "id": "8362e40e-56ef-4505-a91d-e7530dda54bb",
   "metadata": {},
   "source": [
    "---"
   ]
  },
  {
   "cell_type": "markdown",
   "id": "a62f850b-f1a8-4136-a188-67cccf5192d3",
   "metadata": {},
   "source": [
    "# Latex 수식 \n",
    "1. Latex 작성"
   ]
  },
  {
   "cell_type": "markdown",
   "id": "916406ba-0d18-4d84-8e3c-c2b41c68ab13",
   "metadata": {},
   "source": [
    "W의 합을 구하는 수식은 $ x = \\sum_{i=0}^{N-1} W_i $ 입니다."
   ]
  },
  {
   "cell_type": "markdown",
   "id": "bfd66fb7-b25e-4c84-8da4-624d44b3dabd",
   "metadata": {},
   "source": [
    "W의 합을 구하는 수식은 $ x = \\sum_{i=0}^{N-1} W_i $ 입니다."
   ]
  },
  {
   "cell_type": "markdown",
   "id": "d5d728a2-90f3-4b82-aeeb-aca6ca2efbda",
   "metadata": {},
   "source": [
    "$ x = \\sum_{i=0}^{N-1} W_i $"
   ]
  }
 ],
 "metadata": {
  "kernelspec": {
   "display_name": "Python 3 (ipykernel)",
   "language": "python",
   "name": "python3"
  },
  "language_info": {
   "codemirror_mode": {
    "name": "ipython",
    "version": 3
   },
   "file_extension": ".py",
   "mimetype": "text/x-python",
   "name": "python",
   "nbconvert_exporter": "python",
   "pygments_lexer": "ipython3",
   "version": "3.8.19"
  }
 },
 "nbformat": 4,
 "nbformat_minor": 5
}
